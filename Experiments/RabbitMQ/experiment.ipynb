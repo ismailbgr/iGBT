{
 "cells": [
  {
   "cell_type": "code",
   "execution_count": 5,
   "metadata": {},
   "outputs": [
    {
     "name": "stdout",
     "output_type": "stream",
     "text": [
      "Transcription:  hello and welcome to Duggar News Network we're here today to talk about a very serious issue that's plaguing searingtown 5th graders and that is for getting gym clothes for getting gym clothes is a very serious subject and nothing new for 5th graders since they had to start doing this fourth grade we're going to go to a reporter live on the scene Mr Duggar Mr Duggar thank you Mr live just outside the Large Gym talking into a stapler I spoke to him period they are typically not allowed to participate in physical education she also said that she has reminded students multiple times and yet there are several repeat offenders who just keep forgetting back to you Mr Duggar thank you Mr Duggar for that unique perspective this evening and as usual stay fresh stay clean and never change except for Jim good night\n",
      "Transcription completed. Text saved to transcribed.txt\n"
     ]
    }
   ],
   "source": [
    "import speech_recognition as sr\n",
    "from pydub import AudioSegment\n",
    "input_file = 'output.mp3'\n",
    "output_file = 'transcribed.txt'  # The name of the output text file\n",
    "\n",
    "    # Initialize the recognizer\n",
    "recognizer = sr.Recognizer()\n",
    "def convert_mp3_to_wav(mp3_file, wav_file):\n",
    "    # Read the MP3 file\n",
    "    audio = AudioSegment.from_mp3(mp3_file)\n",
    "\n",
    "    # Export the audio to WAV format\n",
    "    audio.export(wav_file, format=\"wav\")\n",
    "# Usage example\n",
    "mp3_file = \"output.mp3\"\n",
    "wav_file = \"audio.wav\"\n",
    "convert_mp3_to_wav(mp3_file, wav_file)\n",
    "\n",
    "    # Load the audio file\n",
    "with sr.AudioFile(wav_file) as source:\n",
    "    audio_data = recognizer.record(source)\n",
    "\n",
    "    # Use Google Web Speech API to transcribe the audio\n",
    "try:\n",
    "    transcribed_text = recognizer.recognize_google(audio_data)\n",
    "    print(\"Transcription: \", transcribed_text)\n",
    "\n",
    "    # Save the transcribed text to the output file\n",
    "    with open(output_file, \"w\") as text_file:\n",
    "        text_file.write(transcribed_text)\n",
    "\n",
    "    print(f\"Transcription completed. Text saved to {output_file}\")\n",
    "\n",
    "except sr.UnknownValueError:\n",
    "    print(\"Google Web Speech API could not understand the audio\")\n",
    "    raise sr.UnknownValueError\n",
    "except sr.RequestError as e:\n",
    "    print(f\"Could not request results from Google Web Speech API; {e}\")\n",
    "    raise sr.RequestError"
   ]
  },
  {
   "cell_type": "code",
   "execution_count": null,
   "metadata": {},
   "outputs": [],
   "source": []
  }
 ],
 "metadata": {
  "kernelspec": {
   "display_name": "Python 3",
   "language": "python",
   "name": "python3"
  },
  "language_info": {
   "codemirror_mode": {
    "name": "ipython",
    "version": 3
   },
   "file_extension": ".py",
   "mimetype": "text/x-python",
   "name": "python",
   "nbconvert_exporter": "python",
   "pygments_lexer": "ipython3",
   "version": "3.10.12"
  },
  "orig_nbformat": 4
 },
 "nbformat": 4,
 "nbformat_minor": 2
}
